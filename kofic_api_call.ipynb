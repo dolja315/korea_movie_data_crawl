{
 "cells": [
  {
   "cell_type": "code",
   "execution_count": 1,
   "metadata": {
    "collapsed": true
   },
   "outputs": [],
   "source": [
    "#_*_ coding:utf-8 _*_\n",
    "\n",
    "import urllib.request\n",
    "import json\n",
    "import datetime"
   ]
  },
  {
   "cell_type": "code",
   "execution_count": 2,
   "metadata": {
    "collapsed": true
   },
   "outputs": [],
   "source": [
    "# return date as list format in yyyymmdd format from specified start date and end date\n",
    "def datestartend(startdate, enddate):\n",
    "    start = datetime.datetime.strptime(startdate, '%Y%m%d')\n",
    "    end = datetime.datetime.strptime(enddate, '%Y%m%d')\n",
    "    daypassed = 0\n",
    "    this_date = start + datetime.timedelta(days=daypassed)\n",
    "    datelist = []\n",
    "    while end > this_date:\n",
    "        this_date = start + datetime.timedelta(days=daypassed)\n",
    "        datelist.append(this_date.strftime('%Y%m%d'))\n",
    "        daypassed = daypassed + 1\n",
    "    return datelist"
   ]
  },
  {
   "cell_type": "code",
   "execution_count": 8,
   "metadata": {
    "collapsed": false
   },
   "outputs": [],
   "source": [
    "# file create with header and utf-8 encoding\n",
    "def boxoffice_header_create(filename):\n",
    "    f = open(filename, mode='w', encoding='utf-8')\n",
    "    header = \"date\\trnum\\trank\\trankInten\\trankOldAndNew\\t\"\n",
    "    \"movieCd\\tmovieNm\\topenDt\\tsalesAmt\\tsalesShare\\tsalesInten\\t\"\n",
    "    \"salesChange\\tsalesAcc\\taudiCnt\\taudiInten\\taudiChange\\taudiAcc\\t\"\n",
    "    \"scrnCnt\\tshowCnt\\n\"\n",
    "    f.write(header)\n",
    "    f.close()\n"
   ]
  },
  {
   "cell_type": "code",
   "execution_count": 4,
   "metadata": {
    "collapsed": true
   },
   "outputs": [],
   "source": [
    "# need api key\n",
    "def kofic_boxoffice_downloader(key, date, filename):\n",
    "    print(date + \"started\")\n",
    "\n",
    "    # url = (\"http://www.kobis.or.kr/kobisopenapi/webservice/rest/boxoffice/searchDailyBoxOfficeList.json?key=%s&targetDt=%s\" % (key, date))\n",
    "    # 하루기준 10개 만 뽑을 수 있어서 상업영화여부와 한국영화여부를 넣어 하루 기준 40개를 뽑기로 했습니다.\n",
    "    # 지역 코드도 있으니 필요하면 시군구별 통계도 뽑을 수 있어요\n",
    "    urlA = (\n",
    "        \"http://www.kobis.or.kr/kobisopenapi/webservice/rest/boxoffice/\"\n",
    "        \"searchDailyBoxOfficeList.json?multiMovieYn=Y&repNationCd=K&\"\n",
    "        \"key=%s&targetDt=%s\" % (\n",
    "            key, date))\n",
    "    urlB = (\n",
    "        \"http://www.kobis.or.kr/kobisopenapi/webservice/rest/boxoffice/\"\n",
    "        \"searchDailyBoxOfficeList.json?multiMovieYn=N&repNationCd=K&\"\n",
    "        \"key=%s&targetDt=%s\" % (\n",
    "            key, date))\n",
    "    urlC = (\n",
    "        \"http://www.kobis.or.kr/kobisopenapi/webservice/rest/boxoffice/\"\n",
    "        \"searchDailyBoxOfficeList.json?multiMovieYn=Y&repNationCd=F&\"\n",
    "        \"key=%s&targetDt=%s\" % (\n",
    "            key, date))\n",
    "    urlD = (\n",
    "        \"http://www.kobis.or.kr/kobisopenapi/webservice/rest/boxoffice/\"\n",
    "        \"searchDailyBoxOfficeList.json?multiMovieYn=N&repNationCd=F&\"\n",
    "        \"key=%s&targetDt=%s\" % (\n",
    "            key, date))\n",
    "    urlList = [urlA, urlB, urlC, urlD]\n",
    "    for url in urlList:\n",
    "        request = urllib.request.Request(url)\n",
    "        response = urllib.request.urlopen(request)\n",
    "        http_code = response.getcode()\n",
    "        if http_code == 200:\n",
    "            response_body = response.read()\n",
    "            # print(response_body.decode('utf-8'))\n",
    "            boxOfficeResults = json.loads(response_body.decode('utf-8'))\n",
    "            # print(boxOfficeResults)\n",
    "            for dailyBoxOffice in boxOfficeResults['boxOfficeResult']['dailyBoxOfficeList']:\n",
    "                boxoffice_one_line = (\n",
    "                    u\"%s\\t%s\\t%s\\t%s\\t%s\\t%s\\t%s\\t%s\\t%s\\t%s\\t%s\\t%s\\t%s\\t%s\\t%s\\t%s\\t%s\\t%s\\t%s\\n\" % (\n",
    "                        date, dailyBoxOffice['rnum'], dailyBoxOffice['rank'], dailyBoxOffice['rankInten'],\n",
    "                        dailyBoxOffice['rankOldAndNew'], dailyBoxOffice['movieCd'], dailyBoxOffice['movieNm'],\n",
    "                        dailyBoxOffice['openDt'], dailyBoxOffice['salesAmt'], dailyBoxOffice['salesShare'],\n",
    "                        dailyBoxOffice['salesInten'], dailyBoxOffice['salesChange'], dailyBoxOffice['salesAcc'],\n",
    "                        dailyBoxOffice['audiCnt'], dailyBoxOffice['audiInten'], dailyBoxOffice['audiChange'],\n",
    "                        dailyBoxOffice['audiAcc'], dailyBoxOffice['scrnCnt'], dailyBoxOffice['showCnt']))\n",
    "                f = open(filename, mode='a', encoding='utf-8')\n",
    "                f.write(boxoffice_one_line)\n",
    "                f.close()\n",
    "        else:\n",
    "            print(\"Error Code:\" + http_code)\n",
    "    print(date + \"ocmpleted\")\n"
   ]
  },
  {
   "cell_type": "code",
   "execution_count": null,
   "metadata": {
    "collapsed": true
   },
   "outputs": [],
   "source": [
    "# main이죠\n",
    "datestart = \"20160324\"\n",
    "dateend = \"20161231\"\n",
    "apikey = \"x\"\n",
    "#boxoffice_header_create(\"boxoffice_%s_%s.txt\" % (datestart, dateend))\n",
    "#시작일 부터 끝나는 날 까지 다 모아서 적습니다.\n",
    "for date in datestartend(datestart, dateend):\n",
    "    kofic_boxoffice_downloader(apikey, date, \"boxoffice.txt\")"
   ]
  }
 ],
 "metadata": {
  "anaconda-cloud": {},
  "kernelspec": {
   "display_name": "Python [conda root]",
   "language": "python",
   "name": "conda-root-py"
  },
  "language_info": {
   "codemirror_mode": {
    "name": "ipython",
    "version": 3
   },
   "file_extension": ".py",
   "mimetype": "text/x-python",
   "name": "python",
   "nbconvert_exporter": "python",
   "pygments_lexer": "ipython3",
   "version": "3.5.2"
  }
 },
 "nbformat": 4,
 "nbformat_minor": 2
}
