{
 "cells": [
  {
   "cell_type": "code",
   "execution_count": 76,
   "metadata": {
    "collapsed": true
   },
   "outputs": [],
   "source": [
    "#_*_ coding:utf-8 _*_\n",
    "\n",
    "import urllib.request\n",
    "import json\n",
    "import datetime\n",
    "import time\n"
   ]
  },
  {
   "cell_type": "code",
   "execution_count": 77,
   "metadata": {
    "collapsed": false
   },
   "outputs": [],
   "source": [
    "# file create with header and utf-8 encoding\n",
    "def movieInfo_header_create(filename):\n",
    "    f = open(filename, mode='w', encoding='utf-8')\n",
    "    header = \"movieCd\\tprdtYear\\tshowTm\\tprdtStatNm\\ttypeNm\\tnations\\tgenres\\tdirectors\\tactors\\tshowTypes\\tcompanys\\taudits\\n\"\n",
    "    f.write(header)\n",
    "    f.close()"
   ]
  },
  {
   "cell_type": "code",
   "execution_count": 90,
   "metadata": {
    "collapsed": false
   },
   "outputs": [],
   "source": [
    "# need api key\n",
    "def kofic_info_downloader(key, movieCd, filename):\n",
    "    \n",
    "    url_ = (\"http://www.kobis.or.kr/kobisopenapi/webservice/\"\n",
    "            \"rest/movie/searchMovieInfo.json?key=%s&movieCd=%s\" %\n",
    "            (key, movieCd))\n",
    "    time.sleep(2)\n",
    "    request = urllib.request.Request(url_)\n",
    "    response = urllib.request.urlopen(request)\n",
    "    http_code = response.getcode()\n",
    "    if http_code == 200:\n",
    "        response_body = response.read()\n",
    "        # print(response_body.decode('utf-8'))\n",
    "        movieInfoResults = json.loads(response_body.decode('utf-8'))\n",
    "        # print(boxOfficeResults)\n",
    "        movieInfoResult = movieInfoResults['movieInfoResult']['movieInfo']\n",
    "        \n",
    "        nations = []\n",
    "        for n_item in movieInfoResult['nations']:\n",
    "            nations.append(n_item['nationNm'])\n",
    "        \n",
    "        genres = []\n",
    "        for g_item in movieInfoResult['genres']:\n",
    "            genres.append(g_item['genreNm'])\n",
    "        \n",
    "        directors = []\n",
    "        for d_item in movieInfoResult['directors']:\n",
    "            directors.append(d_item['peopleNm']+\"&\"+d_item['peopleNmEn'])\n",
    "        \n",
    "        actors = []\n",
    "        for a_item in movieInfoResult['actors']:\n",
    "            actors.append(a_item['peopleNm']+\"&\"+a_item['peopleNmEn']+\"&\"+\n",
    "                                a_item['cast']+\"&\"+a_item['castEn'])\n",
    "        \n",
    "        showTypes = []\n",
    "        for s_item in movieInfoResult['showTypes']:\n",
    "            showTypes.append(s_item['showTypeGroupNm']+\"&\"+s_item['showTypeNm'])\n",
    "        \n",
    "        companys = []\n",
    "        for c_item in movieInfoResult['companys']:\n",
    "            companys.append(c_item['companyCd']+\"&\"+c_item['companyNm']\n",
    "                            +\"&\"+c_item['companyNmEn']+\"&\"+c_item['companyPartNm'])\n",
    "        \n",
    "        audits = []\n",
    "        for au_item in movieInfoResult['audits']:\n",
    "            audits.append(au_item['auditNo']+\"&\"+au_item['watchGradeNm'])\n",
    "        \n",
    "        \n",
    "        movieInfo_one_line = (\n",
    "            u\"%s\\t%s\\t%s\\t%s\\t%s\\t%s\\t%s\\t%s\\t%s\\t%s\\t%s\\t%s\" % (\n",
    "                movieCd, movieInfoResult['prdtYear'], movieInfoResult['showTm'],\n",
    "                movieInfoResult['prdtStatNm'], movieInfoResult['typeNm'], \n",
    "                nations, genres, directors, actors, showTypes, companys, audits)) \n",
    "\n",
    "        f = open(filename, mode='a', encoding='utf-8')\n",
    "        f.write(movieInfo_one_line+\"\\n\")\n",
    "        f.close()\n",
    "    else:\n",
    "        print(\"Error Code:\" + http_code + movieCd)\n",
    "    \n",
    "    #print(\"completed\")\n"
   ]
  },
  {
   "cell_type": "code",
   "execution_count": 107,
   "metadata": {
    "collapsed": false
   },
   "outputs": [],
   "source": [
    "#Call functions\n",
    "\n",
    "filename = \"./movieInfo.txt\"\n",
    "codes = []\n",
    "f = open(\"./movieCd.txt\", mode='r', encoding='utf-8')\n",
    "lines = f.readlines()\n",
    "for l in lines:\n",
    "    codes.append(l.replace(\"\\n\",\"\"))\n",
    "\n",
    "apikey = \"\""
   ]
  },
  {
   "cell_type": "code",
   "execution_count": 108,
   "metadata": {
    "collapsed": false
   },
   "outputs": [],
   "source": [
    "#movieInfo_header_create(\"./movieInfo.txt\")"
   ]
  },
  {
   "cell_type": "code",
   "execution_count": 109,
   "metadata": {
    "collapsed": false,
    "scrolled": false
   },
   "outputs": [],
   "source": [
    "for code in codes:\n",
    "    kofic_info_downloader(apikey, code, filename)"
   ]
  },
  {
   "cell_type": "code",
   "execution_count": 73,
   "metadata": {
    "collapsed": false
   },
   "outputs": [
    {
     "name": "stdout",
     "output_type": "stream",
     "text": [
      "20124079\t2012\t131\t개봉\t장편\t['한국']\t['사극', '드라마']\t['추창민&CHOO Chang-min']\t['이병헌&LEE Byung-hun&광해/하선&', '류승룡&RYU Seung-ryong&허균&', '한효주&HAN Hyo-joo&중전&', '장광&JANG Kwang&조내관&', '김인권&KIM In-kwon&도부장&', '심은경&SHIM Eun-kyoung&사월이&', '김명곤&KIM Myung-kon&박충수&', '서진원&SEO Jin-won&도총관&', '장재현&JANG Jae-hyun&광해 등불 내관1&', '정창국&&자객2&', '조혜정&&기미 궁녀1&', '김남준&&강원도 현감&', '이수용&&칼자국&', '박윤호&&유생4&', '김지수&&자객1&', '박민규&&광해 등불 내관2&', '박지아&PARK Zi-a&한상궁&', '송미정&&사월이 대역&', '양준모&&&', '원동연&WON Dong-yeon&홍루몽 선비&', '김종구&KIM Jong-gu&광해 어의&', '주영호&JU Yeong-ho&광해 별감1&', '이엘&LEE El&안개시&', '전배수&JEON Bae-soo&형판&', '이란희&LEE Ran-hee&수라간 궁녀3&', '최욱&CHOI Wook&유생 2&']\t['필름&필름', '필름&청각장애인용 자막', '2D&디지털', '2D&디지털 영문자막', '2D&디지털 일어자막', '2D&디지털 배리어프리']\t['20100540&리얼라이즈픽쳐스(주)&Realies Pictures, Inc.&제작사', '20110854&씨제이이앤엠(주)&CJ E&M Corp.&제작사', '20110854&씨제이이앤엠(주)&CJ E&M Corp.&배급사', '20110854&씨제이이앤엠(주)&CJ E&M Corp.&제공', '20111391&비엠씨영화전문투자조합&&공동제공', '20114892&컴퍼니케이파트너스 콘텐츠 전문투자조합&&공동제공', '20114895&그린손해보험(주)&Green non-life insurance co,. Ltd&공동제공', '20061365&이수창업투자(주)&&공동제공', '20061361&소빅창업투자(주)&&공동제공', '20123779&에스크베리타스자산운용(주)&&공동제공', '20061362&CJ창업투자(주)&CJ Venture Investment&공동제공', '20123115&MVP창투문화산업투자조합&&공동제공', '20111451&(유)동문파트너즈&&공동제공', '20100109&씨제이엔터테인먼트&CJ Entertainment&해외세일즈사']\t['2012-F610&15세이상관람가']\n",
      "\n",
      "['한국']\n",
      "['사극', '드라마']\n",
      "['추창민&CHOO Chang-min']\n",
      "completed\n"
     ]
    }
   ],
   "source": [
    "kofic_info_downloader(apikey, '20124079', filename)"
   ]
  },
  {
   "cell_type": "code",
   "execution_count": null,
   "metadata": {
    "collapsed": true
   },
   "outputs": [],
   "source": []
  }
 ],
 "metadata": {
  "anaconda-cloud": {},
  "kernelspec": {
   "display_name": "Python [conda root]",
   "language": "python",
   "name": "conda-root-py"
  },
  "language_info": {
   "codemirror_mode": {
    "name": "ipython",
    "version": 3
   },
   "file_extension": ".py",
   "mimetype": "text/x-python",
   "name": "python",
   "nbconvert_exporter": "python",
   "pygments_lexer": "ipython3",
   "version": "3.5.2"
  }
 },
 "nbformat": 4,
 "nbformat_minor": 2
}
